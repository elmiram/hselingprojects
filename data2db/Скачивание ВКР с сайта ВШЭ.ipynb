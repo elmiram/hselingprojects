{
 "cells": [
  {
   "cell_type": "code",
   "execution_count": 3,
   "metadata": {
    "collapsed": true
   },
   "outputs": [],
   "source": [
    "import requests\n",
    "from lxml import html\n",
    "import json"
   ]
  },
  {
   "cell_type": "code",
   "execution_count": 19,
   "metadata": {
    "collapsed": false
   },
   "outputs": [],
   "source": [
    "link = 'https://www.hse.ru/ba/ling/students/diplomas/page{}.html'\n",
    "\n",
    "page = requests.get(link.format(1))  "
   ]
  },
  {
   "cell_type": "code",
   "execution_count": 5,
   "metadata": {
    "collapsed": false
   },
   "outputs": [
    {
     "name": "stdout",
     "output_type": "stream",
     "text": [
      "<!DOCTYPE html>\n",
      "<!-- (c) Art. Lebedev Studio | http://www.artlebedev.com/ -->\n",
      "<html xmlns:perl=\"urn:perl\" lang=\"ru\"><head><meta http-equiv=\"Content-Type\" content=\"text/html; charset=UTF-8\"><meta http-equiv=\"X-UA-Compatible\" content=\"IE=Edge\"><meta nam\n"
     ]
    }
   ],
   "source": [
    "print(page.text[:251])"
   ]
  },
  {
   "cell_type": "code",
   "execution_count": 35,
   "metadata": {
    "collapsed": false
   },
   "outputs": [],
   "source": [
    "tree = html.fromstring(page.content)"
   ]
  },
  {
   "cell_type": "code",
   "execution_count": 42,
   "metadata": {
    "collapsed": false
   },
   "outputs": [
    {
     "name": "stdout",
     "output_type": "stream",
     "text": [
      "['Бонч-Осмоловская Анастасия Александровна', 'Ляшевская Ольга Николаевна', 'Акинина Юлия Сергеевна', 'Толдова Светлана Юрьевна', 'Ландер Юрий Александрович', 'Плунгян Владимир Александрович\\n\\n\\t\\t\\t\\t\\t\\t\\xa0\\n\\t\\t\\t\\t\\t', 'Резникова Татьяна Исидоровна', 'Ляшевская Ольга Николаевна', 'Орехов Борис Валерьевич', 'Князев Сергей Владимирович', 'Летучий Александр Борисович', 'Толдова Светлана Юрьевна', 'Толдова Светлана Юрьевна', 'Толдова Светлана Юрьевна', 'Ляшевская Ольга Николаевна', 'Орехов Борис Валерьевич', 'Бонч-Осмоловская Анастасия Александровна', 'Добрушина Нина Роландовна', 'Рахилина Екатерина Владимировна', 'Выренкова Анастасия Сергеевна', 'Виноградова Ольга Ильинична', 'Шнитке Екатерина  Леонидовна', 'Ляшевская Ольга Николаевна', 'Мороз Георгий Алексеевич', 'Драгой Ольга Викторовна', 'Резникова Татьяна Исидоровна', 'Кутузов Андрей Борисович', 'Летучий Александр Борисович', 'Орехов Борис Валерьевич', 'Галямина Юлия Евгеньевна']\n"
     ]
    }
   ],
   "source": [
    "profs = tree.xpath('//div[@data-title=\"Руководитель\" and not(a)]/text()|//div[@data-title=\"Руководитель\"]/a/text()')\n",
    "print(profs)    \n"
   ]
  },
  {
   "cell_type": "code",
   "execution_count": null,
   "metadata": {
    "collapsed": true
   },
   "outputs": [],
   "source": []
  },
  {
   "cell_type": "code",
   "execution_count": 12,
   "metadata": {
    "collapsed": false
   },
   "outputs": [
    {
     "name": "stdout",
     "output_type": "stream",
     "text": [
      "('Бонч-Осмоловская Анастасия Александровна', '2016', 'Колбасов Матвей Григорьевич', 'Автоматическая классификация нарративной структуры текстов личных дневников', '//www.hse.ru/edu/vkr/184654252')\n"
     ]
    }
   ],
   "source": [
    "year = tree.xpath('//div[@data-title=\"Год защиты\"]/text()')\n",
    "name = tree.xpath('//div[@data-title=\"ФИО студента\"]/text()')\n",
    "title = tree.xpath('//div[@data-title=\"Название работы\"]/a/text()')\n",
    "link_title = tree.xpath('//div[@data-title=\"Название работы\"]/a/@href')\n",
    "\n",
    "works = zip(profs, year, name, title, link_title)\n",
    "w = next(works)\n",
    "print(w)"
   ]
  },
  {
   "cell_type": "code",
   "execution_count": 14,
   "metadata": {
    "collapsed": false
   },
   "outputs": [],
   "source": [
    "page2 = requests.get('https:' + w[4])  "
   ]
  },
  {
   "cell_type": "code",
   "execution_count": 24,
   "metadata": {
    "collapsed": false
   },
   "outputs": [
    {
     "name": "stdout",
     "output_type": "stream",
     "text": [
      "Задача автоматического определения временной референции события является одной из центральных задач в области информационного поиска и извлечения фактов. Это исследование посвящено решению задачи автоматического определения временной референции события на материале личных дневников. Для этого была изучена нарративная система дневниковых записей. Был собран обширный корпус текстов дневников, и разработана система классов клауз, позволяющая выделить необходимые типы клауз для дальнейшего изучения. Была создана система параметров и алгоритм разметки этих параметров, с помощью которого был размечен корпус дневниковых текстов. Были вручную собраны и размечены обучающие корпуса, необходимые для работы алгоритмов машинного обучения. С помощью последних была произведена классификация дневниковых записей, позволяющая выявить пригодные для дальнейшего извлечения из них событийных сущностей и временной референции.\n",
      "http://lms.hse.ru/ap_service.php?getwork=1&guid=CD7E8659-1FBD-4983-86EE-4C3FBFA8A5C3\n",
      "Automatic Сlassification of Narrative Structure of Texts of Personal Diaries\n",
      "The task of automatic determination of the time reference of event is one of the central objects of interest in the field of information retrieval and facts extraction. This research is devoted to solving the problem of automatically determining the time reference of event on the material of personal diaries. To reach this goal narrative structure of diaries was studied. Extensive corpus of diaries texts was collected and a system of classes clause was developed, which allows to provide the necessary types of clauses for further study. A system of parameters was established and an algorithm of marking these parameters was created. With a help of this algorithm, the corpus of diaries texts was marked. Educational corpus was manually collected and marked, which was used for machine learning algorithms. The classification of the diary was produced, which allows to identify clauses suitable for the further extraction of event-related entities and temporal references.\n"
     ]
    }
   ],
   "source": [
    "tree2 = html.fromstring(page2.content)\n",
    "annotation = tree2.xpath('/html/body/div[1]/div[3]/div[2]/div[2]/div/div/div[1]/div/div/div/div[1]/div[2]/div[3]/text()')[0]\n",
    "file = tree2.xpath('/html/body/div[1]/div[3]/div[2]/div[2]/div/div/div[1]/div/div/div/div[1]/div[2]/div[4]/a/@href')[0]\n",
    "\n",
    "page3 = requests.get('https:' + w[4].replace('/edu', '/en/edu')) \n",
    "tree3 = html.fromstring(page3.content)\n",
    "en_title = tree3.xpath('/html/body/div[1]/div[3]/div[2]/div[2]/div/div/div[1]/div/div/div/div[1]/div[2]/div[2]/div[2]/text()')[0].strip()\n",
    "en_annotation = tree3.xpath('/html/body/div[1]/div[3]/div[2]/div[2]/div/div/div[1]/div/div/div/div[1]/div[2]/div[3]/text()')[0]\n",
    "en_name = tree3.xpath('/html/body/div[1]/div[3]/div[2]/div[2]/div/div/div[1]/div/div/div/div[1]/div[2]/div[2]/div[1]/text()')[0]\n",
    "en_prof = tree3.xpath('/html/body/div[1]/div[3]/div[2]/div[2]/div/div/div[1]/div/div/div/div[1]/div[2]/div[2]/div[3]/a/text()')[0]\n",
    "print(annotation, file, en_title, en_annotation, sep='\\n')"
   ]
  },
  {
   "cell_type": "code",
   "execution_count": 27,
   "metadata": {
    "collapsed": false
   },
   "outputs": [
    {
     "name": "stdout",
     "output_type": "stream",
     "text": [
      "{'keywords': '', 'abstract_en': 'The task of automatic determination of the time reference of event is one of the central objects of interest in the field of information retrieval and facts extraction. This research is devoted to solving the problem of automatically determining the time reference of event on the material of personal diaries. To reach this goal narrative structure of diaries was studied. Extensive corpus of diaries texts was collected and a system of classes clause was developed, which allows to provide the necessary types of clauses for further study. A system of parameters was established and an algorithm of marking these parameters was created. With a help of this algorithm, the corpus of diaries texts was marked. Educational corpus was manually collected and marked, which was used for machine learning algorithms. The classification of the diary was produced, which allows to identify clauses suitable for the further extraction of event-related entities and temporal references.', 'course': '4', 'file': 'http://lms.hse.ru/ap_service.php?getwork=1&guid=CD7E8659-1FBD-4983-86EE-4C3FBFA8A5C3', 'prof': {'t_second_name_en': 'Bonch-Osmolovskaya', 't_first_name_en': 'Anastasiya A.', 't_fathers_name': 'Александровна', 't_first_name': 'Анастасия', 't_second_name': 'Бонч-Осмоловская'}, 'lang': 'ru', 'form': 'thesis', 'title': 'Автоматическая классификация нарративной структуры текстов личных дневников', 'title_en': 'Automatic Сlassification of Narrative Structure of Texts of Personal Diaries', 'author': {'a_first_name_en': 'Matvey', 'a_second_name': 'Колбасов', 'a_second_name_en': 'Kolbasov', 'a_first_name': 'Матвей', 'a_fathers_name': 'Григорьевич', 'admission_year': 2011}, 'abstract': 'Задача автоматического определения временной референции события является одной из центральных задач в области информационного поиска и извлечения фактов. Это исследование посвящено решению задачи автоматического определения временной референции события на материале личных дневников. Для этого была изучена нарративная система дневниковых записей. Был собран обширный корпус текстов дневников, и разработана система классов клауз, позволяющая выделить необходимые типы клауз для дальнейшего изучения. Была создана система параметров и алгоритм разметки этих параметров, с помощью которого был размечен корпус дневниковых текстов. Были вручную собраны и размечены обучающие корпуса, необходимые для работы алгоритмов машинного обучения. С помощью последних была произведена классификация дневниковых записей, позволяющая выявить пригодные для дальнейшего извлечения из них событийных сущностей и временной референции.'}\n"
     ]
    }
   ],
   "source": [
    "def split_name(who, text, year, en_text):\n",
    "    n = text.split()\n",
    "    a = en_text.split()\n",
    "    if who == 'a':\n",
    "        return {\"a_first_name\": n[1], \"a_second_name\": n[0], \"a_fathers_name\": n[2], \"admission_year\": int(year) - 5,\n",
    "               \"a_first_name_en\": ' '.join(a[:-1]), \"a_second_name_en\": a[-1]}\n",
    "    else:\n",
    "        return {\"t_first_name\": n[1], \"t_second_name\": n[0], \"t_fathers_name\": n[2],\n",
    "                \"t_first_name_en\": ' '.join(a[:-1]), \"t_second_name_en\": a[-1]}\n",
    "    \n",
    "d = {\"title\": w[3], \"title_en\": en_title, \"author\": split_name('a', w[2], w[1], en_name), \n",
    "     \"prof\": split_name('t', w[0], w[1], en_prof),\n",
    "     \"keywords\": \"\", \"keywords_en\": \"\",\"abstract\": annotation, \"abstract_en\": en_annotation, \n",
    "     \"form\": \"thesis\", \"course\": \"4\", \"file\": file, \"lang\": \"ru\"}\n",
    "\n",
    "print(d)"
   ]
  },
  {
   "cell_type": "code",
   "execution_count": 43,
   "metadata": {
    "collapsed": true
   },
   "outputs": [],
   "source": [
    "import requests\n",
    "from lxml import html\n",
    "import json\n",
    "\n",
    "link = 'https://www.hse.ru/ba/ling/students/diplomas/page{}.html'\n",
    "pages = [requests.get(link.format(num)) for num in [1,2,3,4]]"
   ]
  },
  {
   "cell_type": "code",
   "execution_count": 62,
   "metadata": {
    "collapsed": false
   },
   "outputs": [
    {
     "name": "stdout",
     "output_type": "stream",
     "text": [
      "Автоматическая классификация нарративной структуры текстов личных дневников - Колбасов Матвей Григорьевич\n",
      "Автоматическое распознавание семантических ролей с привлечением больших данных - Евстратенко Богдан Сергеевич\n",
      "Адаптация и стандартизация теста APACS для оценки прагматической обработки - Грабовская Мария Андреевна\n",
      "Анализ методов определения авторства на материале коротких текстов на русском языке - Присяжная Ангелина Юрьевна\n",
      "Вопросительные предложения в полисинтетических языках - Касьянова Полина Алексеевна\n",
      "Выражение падежных значений в урмийском новоарамейском - Саркисов Иван Владимирович\n",
      "Глаголы извлечения объекта: типология прямых и переносных значений - Багдасарян Кристине Артуровна\n",
      "Глагольный аспект: шкала или континуум? - Кузьменко Елизавета Алексеевна\n",
      "Граф как метод описания истории русской рифмы: лингвостатистический подход и база данных - Созинова Ольга Андреевна\n",
      "Дистантное взаимодействие согласных в СРЛЯ - Свешникова Варвара Сергеевна\n",
      "Инструментальный аппликатив в типологической перспективе - Арсентьев Денис Юрьевич\n",
      "Исследование вклада синтаксических признаков в распознавание анафоричесних отношений - Жадаев Никита Максимович\n",
      "Исследование методов автоматического извлечения оценочной лексики - Горбачев Виталий Антонович\n",
      "Корпусное исследование посессивных конструкций в русском языке - Зинченко Елена Николаевна\n",
      "Кросс-лингвистический парсинг крымско-татарского и тувинских языков при помощи казахского корпуса и совместной морфосинтаксической дизамбигуации - Агеева Екатерина Валерьевна\n",
      "Лингвостиховедческие аспекты силлабо-тоники в современной профессиональной поэзии - Киямова Полина Дмитриевна\n",
      "Макроанализ художественных текстов: автоматическое моделирование сюжетной динамики на материале русской прозы - Павлова Ирина Сергеевна\n",
      "Многоязычие по данным социолингвистического анкетирования: несколько регионов горного Дагестана - Мазаева Мария Андреевна\n",
      "Особенности письменных текстов детей с расстройством аутистического спектра - Аксенов Кирилл Алексеевич\n",
      "Оценка и улучшение разметки в корпусе RLC - Смирнов Иван Юрьевич\n",
      "Оценка современных подходов к дискурсному анализу текстов в учебных корпусах - Шатова Эвелина Эдуардовна\n",
      "Разработка методики преподавания союзов и, а, но на занятиях РКИ с учетом корпусных данных - Иванова Зося Дмитриевна\n",
      "Распознавание русского рукописного текста - Мустакимова Эльмира Гаязовна\n",
      "Распределение форм будущего времени в польском: корпусное исследование - Блажиевская Александра Александровна\n",
      "Роль жестов в преодолении лексического дефицита у пациентов с афазией - Кшняскина Виктория Владиславовна\n",
      "Семантика приставок с прототипическим значением движения изнутри наружу в идише, немецком, польском и русском языках - Левин Иван Сергеевич\n",
      "Семантические аналогии как метод поиска антонимов - Агапов Алексей Алексеевич\n",
      "Системы модификаторов высокой степени типа \"очень\" в типологическом освещении - Акутина Наталья Сергеевна\n",
      "\"Словарь русского языка XI-XVII вв.\" как база данных: технические задачи и исследовательские перспективы - Вечкаева Анна Михайловна\n",
      "Современное состояние послеложной и падежной систем кетского языка. Сравнительный параметрический анализ - Козиорова Юлия Игоревна\n",
      "Сопоставительное исследование локативных систем северных диалектов даргинского языка - Чечуро Илья Юрьевич\n",
      "Типология распределения множественных показателей числа - Тряхалова Ксения Геннадьевна\n",
      "Тональная система языка джого - Сапожникова Мария Анатольевна\n",
      "Усвоение иностранного языка русскоговорящими учащимися (на материале ошибок в немецких и английских текстах) - Новоселова Анна Владимировна\n",
      "Усовершенствование метаразметки и интерфейсов для проведения лексических наблюдений на материале текстов студенческих эссе в учебном корпусе REALEC - Якушева Тамара Викторовна\n",
      "Участие первичной сенсомоторной коры в обработке буквальных и метафорических значений глаголов движения носителями русского языка - Ивтушок Елизавета Игоревна\n",
      "Фонетическая реализация долгих и двойных согласных в СРЛЯ - Фадеева Яна Сергеевна\n",
      "Автоматическая расстановка ударений на основе ошибочного написания слов - Липунова Александра Евгеньевна\n",
      "Автоматическое выделение именных групп в русскоязычных текстах - Феногенова Алена Сергеевна\n",
      "Автоматическое выделение цитат в русскоязычных текстах на лингвистических основаниях - Тышкевич Наталия Борисовна\n",
      "Автоматическое определение языка по тексту: языки России и ближнего зарубежья - Самойленко Игорь Юрьевич\n",
      "Автоматическое формирование грамматического словаря на основе неразмеченных текстов - Мазурова Марина Валентиновна\n",
      "Анализ тональности текстов (на примере удмуртского языка) - Грачев Даниил Сергеевич\n",
      "Апокопы в современном французском языке: образование, распространение, автоматический поиск - Стаферова Дарья Алексеевна\n",
      "Выявление жанровых и авторских особенностей латинских текстов методами машинного обучения - Ханнанов Шухрат Ильдусович\n",
      "Грамматикализация глаголов 'грозить' и 'обещать' в типологической перспективе - Кильчицкая Елена Сергеевна\n",
      "Грамматические особенности древнейшего русского паремейника - Сергеева Наталья Юрьевна\n",
      "Двойное маркирование взаимности в типологической перспективе - Никитина Александра Николаевна\n",
      "Диалектные явления в коми-пермяцких текстах: автоматическое выявление и лингвистический анализ - Маликова Екатерина Риваловна\n",
      "Жесты и словесный поиск в нарративах людей с афазией (на материале корпуса \"Рассказы о грушах\") - Гасанова Сабина-Сенубер Джавидовна\n",
      "Исследование лексического поля методами корпусного и квантитативного анализа (на материале лексического поля боли) - Баранова Светлана Михайловна\n",
      "Исследование типов частотных ошибок в корпусе REALEC (Russian Error-Annotated Learner English Corpus), реконструкция возможных причин их появления, создание тренажеров для дополнительной практики в проблемных областях - Хромаленкова Анастасия Николаевна\n",
      "Кластерный анализ в типологии порядка слов (на материале WALS) - Кожухарь Александра Алексеевна\n",
      "Корпуса текстов, порожденных многоязычными носителями: разработка принципов и создание прототипа - Медведева Мария Владимировна\n",
      "Лексикографические аспекты онтологий semantic web - Спасибо Евгений Олегович\n",
      "Лексические показатели (не)умышленности действия в типологической перспективе - Коршак Марина Анатольевна\n",
      "Методы автоматического определения пристрастности СМИ на материале американской прессы - Рылько Татьяна Вадимовна\n",
      "Определение уровня языковой сложности текстов для изучающих польский язык как иностранный - Кошелева Дарья Леонидовна\n",
      "\"Ошибаться\": семантический анализ в типологической перспективе - Швачкина Евгения Павловна\n",
      "Поле глаголов эмоций русского жестового языка в типологическом освещении - Ломакина Яна Игоревна\n",
      "Поле ментальных глаголов русского жестового языка в типологическом освещении - Перова Дарья Максимовна\n",
      "«Причастная» стратегия релятивизации в нахско-дагестанских языках - Барыльникова Дарья Викторовна\n",
      "Проведение исследования ошибок в письменных работах на английском языке на базе специализированного корпуса (REALEC) - Виноградов Валентин Евгеньевич\n",
      "Пространственные отношения в речи русских детей: включенность-невключенность в пространственную область (внутри-снаружи) - Малинина Анна Николаевна\n",
      "Пространственные отношения в речи русских детей: предлоги на, над, под - Чукичева Наталья Дмитриевна\n",
      "Пространственные приставки при глаголах непространственной семантики: немецкие превербы в типологической перспективе - Русанова Анна Олеговна\n",
      "Разграничение значений предлогов В (включенность) и НА (поддержка) в речи русскоговорящих детей дошкольного возраста - Гутова Анастасия Аркадьевна\n",
      "Разработка, апробация и стандартизация психолингвистического текста на называние действий и объектов: данные нормы и пациентов с афазией - Щеголева Софья Игоревна\n",
      "Разработка словаря для автоматического извлечения мнений на русском языке - Муханова Регина Валентиновна\n",
      "Разработка учебного модуля для студентов-херитажников с использованием медийных ресурсов - Львова Софья Вячеславовна\n",
      "Разработка учебного модуля по глаголам движения в русском языке как иностранном - Лукьянова Лилия Владимировна\n",
      "Реализация гласного нижнего подъема в позиции между мягкими согласными в говоре д. Михалевская Архангельской обл. и в СРЛЯ - Таратынов Павел Алексеевич\n",
      "Семантика прилагательных светообозначения в типологической перспективе - Новикова Анастасия Дмитриевна\n",
      "Семантическое поле \"жаловаться\" в русском и английском языках - Мартынова Анастасия Дмитриевна\n",
      "Семантическое поле 'ОБЕЩАНИЕ' в русском и английском языках - Симакина Мария Игоревна\n",
      "Семантическое поле ОБИДА в русском и английском языках - Ларионова Екатерина Игоревна\n",
      "Семантическое поле 'РУГАТЬ' в русском и английском языках - Хасянова Диана Надировна\n",
      "Система автоматической рекомендации произвольных текстов для пополнения корпуса - Мальцев Марк Сергеевич\n",
      "Создание стиховедческого инструментария: фонологический и метрический анализ русских стихотворных неразмеченных текстов - Хаджийская Александра Юрьевна\n",
      "Социолингвистические параметры варьирования диалектных явлений в говоре дер. Михалевская Устьянского района - Черненко Александра Георгиевна\n",
      "Социолингвистические параметры употребления диминутивов - Бондаренко Кристина Евгеньевна\n",
      "Сочетаемость фазовых глаголов с сентенциальными и именными актантами: параметры агентивности, одушевлённости и др. (типологическое исследование) - Востокова Елизавета Вадимовна\n",
      "Сравнение мозговых механизмов понимания существительных и глаголов у больных с нейрогенными нарушениями речи - Солоухина Ольга Андреевна\n",
      "Типология личных локативов - Жигульская Василиса Романовна\n",
      "Типология относительных конструкций в языках Западной Индонезии - Шаповалова Ольга Александровна\n",
      "\"Тугой\" - \"упругий\" - \"плотный\" в лексикотипологическом аспекте - Баскакова Елена Алексеевна\n",
      "Фонетическая реализация твердых губных и зубных носовых согласных в позиции перед губно-зубными в СРЛЯ - Мечникова Полина Николаевна\n",
      "Экспериментальные исследования словарного запаса и лексической многозначности у детей разного возраста - Котова Анна Сергеевна\n",
      "Электронная лингвогеография: картографирование типологических параметров письменностей мира - Дубова Ксения Валентиновна\n",
      "Элементы описания языка нген - Малолетняя Анна Павловна\n",
      "Языковая вариативность и текстологическая стратификация раннедревнерусской рукописи: древнейший список Учительного евангелия Константина, епископа славянского - Тюренкова Маргарита Андреевна\n"
     ]
    }
   ],
   "source": [
    "def split_name(who, text, year, en_text):\n",
    "    n = text.split()\n",
    "    a = en_text.split()\n",
    "    if who == 'a':\n",
    "        return {\"a_first_name\": n[1], \"a_second_name\": n[0], \"a_fathers_name\": n[2], \"admission_year\": int(year) - 4,\n",
    "               \"a_first_name_en\": ' '.join(a[:-1]), \"a_second_name_en\": a[-1]}\n",
    "    else:\n",
    "        return {\"t_first_name\": n[1], \"t_second_name\": n[0], \"t_fathers_name\": n[2],\n",
    "                \"t_first_name_en\": ' '.join(a[:-1]), \"t_second_name_en\": a[-1]}\n",
    "    \n",
    "arr = []\n",
    "\n",
    "for page in pages:\n",
    "    tree = html.fromstring(page.content)\n",
    "    \n",
    "    profs = tree.xpath('//div[@data-title=\"Руководитель\" and not(a)]/text()|//div[@data-title=\"Руководитель\"]/a/text()')\n",
    "    year = tree.xpath('//div[@data-title=\"Год защиты\"]/text()')\n",
    "    name = tree.xpath('//div[@data-title=\"ФИО студента\"]/text()')\n",
    "    title = tree.xpath('//div[@data-title=\"Название работы\"]/a/text()')\n",
    "    link_title = tree.xpath('//div[@data-title=\"Название работы\"]/a/@href')\n",
    "\n",
    "    works = zip(profs, year, name, title, link_title)\n",
    "    for w in works:\n",
    "        print(w[3], '-', w[2])\n",
    "        page2 = requests.get('https:' + w[4])  \n",
    "        tree2 = html.fromstring(page2.content)\n",
    "        \n",
    "        annotation = tree2.xpath('/html/body/div[1]/div[3]/div[2]/div[2]/div/div/div[1]/div/div/div/div[1]/div[2]/div[3]/text()')[0]\n",
    "        count = tree2.xpath('count(/html/body/div[1]/div[3]/div[2]/div[2]/div/div/div[1]/div/div/div/div[1]/div[2]/div)')\n",
    "        if count == 4:\n",
    "            file = tree2.xpath('/html/body/div[1]/div[3]/div[2]/div[2]/div/div/div[1]/div/div/div/div[1]/div[2]/div[4]/a/@href')[0]\n",
    "        else:\n",
    "            file = ''\n",
    "        page3 = requests.get('https:' + w[4].replace('/edu', '/en/edu')) \n",
    "        tree3 = html.fromstring(page3.content)\n",
    "        en_title = tree3.xpath('//div[@class=\"dynamic-content\"]/div[2]/div[2]/text()')[0].strip()\n",
    "        try:\n",
    "            en_annotation = tree3.xpath('/html/body/div[1]/div[3]/div[2]/div[2]/div/div/div[1]/div/div/div/div[1]/div[2]/div[3]/text()')[0]\n",
    "            en_name = tree3.xpath('//div[@class=\"dynamic-content\"]/div[2]/div[1]/text()')[0]\n",
    "            en_prof = tree3.xpath('//div[@class=\"dynamic-content\"]/div[2]/div[3][not(a)]/text() | //div[@class=\"dynamic-content\"]/div[2]/div[3]/a/text() ')[0]\n",
    "        except:\n",
    "            en_annotation, en_name, en_prof = '', w[2], w[0]\n",
    "        \n",
    "        d = {\"title\": w[3], \"title_en\": en_title, \"author\": split_name('a', w[2], w[1], en_name), \n",
    "             \"prof\": split_name('t', w[0], w[1], en_prof),\n",
    "             \"keywords\": \"\", \"keywords_en\": \"\",\"abstract\": annotation, \"abstract_en\": en_annotation, \n",
    "             \"form\": \"thesis\", \"course\": \"4\", \"file\": file, \"lang\": \"ru\", \"year\":w[1]}\n",
    "        arr.append(d)\n",
    "        \n",
    "with open('hse_vkr.json', 'w', encoding='utf-8') as f:\n",
    "    f.write(json.dumps(arr))"
   ]
  },
  {
   "cell_type": "code",
   "execution_count": 52,
   "metadata": {
    "collapsed": true
   },
   "outputs": [],
   "source": [
    "import requests\n",
    "\n",
    "f = requests.get('http://lms.hse.ru/ap_service.php?getwork=1&guid=CD7E8659-1FBD-4983-86EE-4C3FBFA8A5C3') "
   ]
  },
  {
   "cell_type": "code",
   "execution_count": 54,
   "metadata": {
    "collapsed": false
   },
   "outputs": [
    {
     "name": "stdout",
     "output_type": "stream",
     "text": [
      "b'%PDF-1.5\\n%\\xbf\\xf7\\xa2\\xfe\\n90 0 obj\\n<< /Linearized 1 /L 711291 /H [ 911 362 ] /O 94 /E 132209 /N 40 /T 710482 >>\\nendobj\\n                                                                                            '\n"
     ]
    }
   ],
   "source": [
    "print(f.content[:200])"
   ]
  },
  {
   "cell_type": "code",
   "execution_count": 60,
   "metadata": {
    "collapsed": false
   },
   "outputs": [
    {
     "name": "stdout",
     "output_type": "stream",
     "text": [
      "kolbasov_mg_avtomaticheskaya-klassifikaciya-narrativnoy-struktury-tekstov-lichnyh-dnevnikov_33493.pdf\n"
     ]
    }
   ],
   "source": [
    "print(f.headers['content-disposition'].split('=')[-1])"
   ]
  },
  {
   "cell_type": "code",
   "execution_count": 61,
   "metadata": {
    "collapsed": true
   },
   "outputs": [],
   "source": [
    "with open(f.headers['content-disposition'].split('=')[-1], 'wb') as pdf:\n",
    "    pdf.write(f.content)"
   ]
  },
  {
   "cell_type": "code",
   "execution_count": null,
   "metadata": {
    "collapsed": true
   },
   "outputs": [],
   "source": []
  }
 ],
 "metadata": {
  "kernelspec": {
   "display_name": "Python 3",
   "language": "python",
   "name": "python3"
  },
  "language_info": {
   "codemirror_mode": {
    "name": "ipython",
    "version": 3
   },
   "file_extension": ".py",
   "mimetype": "text/x-python",
   "name": "python",
   "nbconvert_exporter": "python",
   "pygments_lexer": "ipython3",
   "version": "3.5.3"
  }
 },
 "nbformat": 4,
 "nbformat_minor": 1
}
